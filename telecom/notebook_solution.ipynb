{
 "cells": [
  {
   "cell_type": "markdown",
   "id": "4cf794b6",
   "metadata": {},
   "source": [
    "# Deserción de clientes de empresa de Telefonía\n",
    "Este conjunto de datos procede de una empresa de telecomunicaciones iraní, y cada fila representa a un cliente durante un periodo de un año. Además de una etiqueta de cancelación, hay información sobre la actividad de los clientes, así como los fallos en las llamadas y la duración de la suscripción. "
   ]
  },
  {
   "cell_type": "code",
   "execution_count": 1,
   "id": "inclusive-leeds",
   "metadata": {},
   "outputs": [
    {
     "data": {
      "text/html": [
       "<div>\n",
       "<style scoped>\n",
       "    .dataframe tbody tr th:only-of-type {\n",
       "        vertical-align: middle;\n",
       "    }\n",
       "\n",
       "    .dataframe tbody tr th {\n",
       "        vertical-align: top;\n",
       "    }\n",
       "\n",
       "    .dataframe thead th {\n",
       "        text-align: right;\n",
       "    }\n",
       "</style>\n",
       "<table border=\"1\" class=\"dataframe\">\n",
       "  <thead>\n",
       "    <tr style=\"text-align: right;\">\n",
       "      <th></th>\n",
       "      <th>Call Failure</th>\n",
       "      <th>Complaints</th>\n",
       "      <th>Subscription Length</th>\n",
       "      <th>Charge Amount</th>\n",
       "      <th>Seconds of Use</th>\n",
       "      <th>Frequency of use</th>\n",
       "      <th>Frequency of SMS</th>\n",
       "      <th>Distinct Called Numbers</th>\n",
       "      <th>Age Group</th>\n",
       "      <th>Tariff Plan</th>\n",
       "      <th>Status</th>\n",
       "      <th>Age</th>\n",
       "      <th>Customer Value</th>\n",
       "      <th>Churn</th>\n",
       "    </tr>\n",
       "  </thead>\n",
       "  <tbody>\n",
       "    <tr>\n",
       "      <th>0</th>\n",
       "      <td>8</td>\n",
       "      <td>0</td>\n",
       "      <td>38</td>\n",
       "      <td>0</td>\n",
       "      <td>4370</td>\n",
       "      <td>71</td>\n",
       "      <td>5</td>\n",
       "      <td>17</td>\n",
       "      <td>3</td>\n",
       "      <td>1</td>\n",
       "      <td>1</td>\n",
       "      <td>30</td>\n",
       "      <td>197.640</td>\n",
       "      <td>0</td>\n",
       "    </tr>\n",
       "    <tr>\n",
       "      <th>1</th>\n",
       "      <td>0</td>\n",
       "      <td>0</td>\n",
       "      <td>39</td>\n",
       "      <td>0</td>\n",
       "      <td>318</td>\n",
       "      <td>5</td>\n",
       "      <td>7</td>\n",
       "      <td>4</td>\n",
       "      <td>2</td>\n",
       "      <td>1</td>\n",
       "      <td>2</td>\n",
       "      <td>25</td>\n",
       "      <td>46.035</td>\n",
       "      <td>0</td>\n",
       "    </tr>\n",
       "    <tr>\n",
       "      <th>2</th>\n",
       "      <td>10</td>\n",
       "      <td>0</td>\n",
       "      <td>37</td>\n",
       "      <td>0</td>\n",
       "      <td>2453</td>\n",
       "      <td>60</td>\n",
       "      <td>359</td>\n",
       "      <td>24</td>\n",
       "      <td>3</td>\n",
       "      <td>1</td>\n",
       "      <td>1</td>\n",
       "      <td>30</td>\n",
       "      <td>1536.520</td>\n",
       "      <td>0</td>\n",
       "    </tr>\n",
       "    <tr>\n",
       "      <th>3</th>\n",
       "      <td>10</td>\n",
       "      <td>0</td>\n",
       "      <td>38</td>\n",
       "      <td>0</td>\n",
       "      <td>4198</td>\n",
       "      <td>66</td>\n",
       "      <td>1</td>\n",
       "      <td>35</td>\n",
       "      <td>1</td>\n",
       "      <td>1</td>\n",
       "      <td>1</td>\n",
       "      <td>15</td>\n",
       "      <td>240.020</td>\n",
       "      <td>0</td>\n",
       "    </tr>\n",
       "    <tr>\n",
       "      <th>4</th>\n",
       "      <td>3</td>\n",
       "      <td>0</td>\n",
       "      <td>38</td>\n",
       "      <td>0</td>\n",
       "      <td>2393</td>\n",
       "      <td>58</td>\n",
       "      <td>2</td>\n",
       "      <td>33</td>\n",
       "      <td>1</td>\n",
       "      <td>1</td>\n",
       "      <td>1</td>\n",
       "      <td>15</td>\n",
       "      <td>145.805</td>\n",
       "      <td>0</td>\n",
       "    </tr>\n",
       "  </tbody>\n",
       "</table>\n",
       "</div>"
      ],
      "text/plain": [
       "   Call Failure  Complaints  Subscription Length  Charge Amount  \\\n",
       "0             8           0                   38              0   \n",
       "1             0           0                   39              0   \n",
       "2            10           0                   37              0   \n",
       "3            10           0                   38              0   \n",
       "4             3           0                   38              0   \n",
       "\n",
       "   Seconds of Use  Frequency of use  Frequency of SMS  \\\n",
       "0            4370                71                 5   \n",
       "1             318                 5                 7   \n",
       "2            2453                60               359   \n",
       "3            4198                66                 1   \n",
       "4            2393                58                 2   \n",
       "\n",
       "   Distinct Called Numbers  Age Group  Tariff Plan  Status  Age  \\\n",
       "0                       17          3            1       1   30   \n",
       "1                        4          2            1       2   25   \n",
       "2                       24          3            1       1   30   \n",
       "3                       35          1            1       1   15   \n",
       "4                       33          1            1       1   15   \n",
       "\n",
       "   Customer Value  Churn  \n",
       "0         197.640      0  \n",
       "1          46.035      0  \n",
       "2        1536.520      0  \n",
       "3         240.020      0  \n",
       "4         145.805      0  "
      ]
     },
     "execution_count": 1,
     "metadata": {},
     "output_type": "execute_result"
    }
   ],
   "source": [
    "import pandas as pd\n",
    "df = pd.read_csv(\"data/customer_churn.csv\")\n",
    "df.head()"
   ]
  },
  {
   "cell_type": "markdown",
   "id": "f86011a3-ce1e-4810-8b06-a7cfbd45a288",
   "metadata": {},
   "source": [
    "[Source](https://www.kaggle.com/royjafari/customer-churn)  of dataset and [source](https://archive.ics.uci.edu/ml/datasets/Iranian+Churn+Dataset) of dataset description. \n",
    "\n",
    "**Citation**: Jafari-Marandi, R., Denton, J., Idris, A., Smith, B. K., & Keramati, A. (2020). Optimum Profit-Driven Churn Decision Making: Innovative Artificial Neural Networks in Telecom Industry. Neural Computing and Applications."
   ]
  },
  {
   "cell_type": "markdown",
   "id": "e7ba2521-b9f8-4ad1-b887-960490664ec2",
   "metadata": {},
   "source": [
    "## Diccionario de datos\n",
    "| Column                  | Explicación                                                 |\n",
    "|-------------------------|-------------------------------------------------------------|\n",
    "| Call Failure            | número de llamadas fallidas                                 |\n",
    "| Complaints              | binario (0: ninguna reclamación, 1: reclamación)            |\n",
    "| Subscription Length     | total de meses de suscripción                               |\n",
    "| Charge Amount           | atributo ordinal (0: importe más bajo, 9: importe más alto) |\n",
    "| Seconds of Use          | total de segundos de llamadas                               |\n",
    "| Frequency of use        | número total de llamadas                                    |\n",
    "| Frequency of SMS        | número total de mensajes de texto                           |\n",
    "| Distinct Called Numbers | números llamados diferentes                                 |\n",
    "| Age Group               | atributo ordinal (1: menor edad, 5: mayor edad)             |\n",
    "| Tariff Plan             | binario (1: pago por uso, 2: contractual)                   |\n",
    "| Status                  | binario (1: activo, 2: no activo)                           |\n",
    "| Age                     | edad del cliente                                            |\n",
    "| Customer Value          | edad del cliente                                            |\n",
    "| Churn                   | etiqueta de clase (1: baja, 0: no baja)                     |\n"
   ]
  },
  {
   "cell_type": "markdown",
   "id": "f4f65186-fe85-4303-8597-d6cbd0437314",
   "metadata": {},
   "source": [
    "## Problema\n",
    "Acaba de ser contratado por una empresa de telecomunicaciones. Un competidor ha entrado recientemente en el mercado y ofrece un plan atractivo a los nuevos clientes. A la empresa de telecomunicaciones le preocupa que este competidor pueda empezar a atraer a sus clientes.\n",
    "Usted tiene acceso a un conjunto de datos de los clientes de la empresa, que incluye si los clientes han cambiado de plan. La empresa de telecomunicaciones quiere saber si puede utilizar estos datos para predecir si un cliente cambiará de proveedor. También quieren saber qué factores aumentan la probabilidad de que un cliente abandone.\n",
    "Tendrá que preparar un informe accesible para un público amplio. En él se expondrán los motivos, los pasos, los resultados y las conclusiones."
   ]
  },
  {
   "cell_type": "code",
   "execution_count": 2,
   "id": "e9ca3bfa-9694-49ad-a4c5-17664609f68f",
   "metadata": {},
   "outputs": [
    {
     "data": {
      "text/html": [
       "<div>\n",
       "<style scoped>\n",
       "    .dataframe tbody tr th:only-of-type {\n",
       "        vertical-align: middle;\n",
       "    }\n",
       "\n",
       "    .dataframe tbody tr th {\n",
       "        vertical-align: top;\n",
       "    }\n",
       "\n",
       "    .dataframe thead th {\n",
       "        text-align: right;\n",
       "    }\n",
       "</style>\n",
       "<table border=\"1\" class=\"dataframe\">\n",
       "  <thead>\n",
       "    <tr style=\"text-align: right;\">\n",
       "      <th></th>\n",
       "      <th>Age Group</th>\n",
       "      <th>Frequency of SMS</th>\n",
       "      <th>Frequency of use</th>\n",
       "    </tr>\n",
       "  </thead>\n",
       "  <tbody>\n",
       "    <tr>\n",
       "      <th>1</th>\n",
       "      <td>2</td>\n",
       "      <td>78293</td>\n",
       "      <td>74742</td>\n",
       "    </tr>\n",
       "    <tr>\n",
       "      <th>2</th>\n",
       "      <td>3</td>\n",
       "      <td>128311</td>\n",
       "      <td>97531</td>\n",
       "    </tr>\n",
       "  </tbody>\n",
       "</table>\n",
       "</div>"
      ],
      "text/plain": [
       "   Age Group  Frequency of SMS  Frequency of use\n",
       "1          2             78293             74742\n",
       "2          3            128311             97531"
      ]
     },
     "execution_count": 2,
     "metadata": {},
     "output_type": "execute_result"
    }
   ],
   "source": [
    "# ¿Qué grupos de edades envían más SMS que hacen llamadas?\n",
    "sms_vs_calls = df.groupby(['Age Group'], as_index=False).agg({'Frequency of SMS':'sum','Frequency of use':'sum'})\n",
    "sms_vs_calls[sms_vs_calls['Frequency of SMS'] > sms_vs_calls['Frequency of use']]\n"
   ]
  },
  {
   "cell_type": "code",
   "execution_count": 6,
   "id": "9aa333f4-235d-4cbf-8433-2235a3eca9a4",
   "metadata": {},
   "outputs": [
    {
     "data": {
      "image/png": "[encoded data removed]",
      "text/plain": [
       "<Figure size 640x480 with 1 Axes>"
      ]
     },
     "metadata": {},
     "output_type": "display_data"
    }
   ],
   "source": [
    "# Crear un gráfico para visualizar los números llamados diferentes por grupo etario.\n",
    "# Diferenciar en el gráfico entre llamadas cortas, medianas o largas (por el total de segundos)\n",
    "\n",
    "import matplotlib.pyplot as plt\n",
    "# Categorizar las llamadas por su duración\n",
    "df['Call Duration Category'] = pd.cut(df['Seconds of Use'], 3, labels=['short', 'medium', 'long'],)\n",
    "\n",
    "# Calcular el total de números diferentes por Grupo Etario y duración de llamada\n",
    "distinct_calls_by_age_category = df.groupby(['Age Group', 'Call Duration Category'], observed=False)['Distinct Called Numbers'].count().unstack()\n",
    "\n",
    "# Graficar la data\n",
    "figsize=(12, 4)\n",
    "distinct_calls_by_age_category.plot(kind='bar', stacked=True)\n",
    "plt.title('Number of Distinct Phone Calls by Age Group and Call Duration Category')\n",
    "plt.xlabel('Age Group')\n",
    "plt.ylabel('Number of Calls')\n",
    "plt.xticks(rotation=0)\n",
    "plt.legend(title='Call Duration Category')\n",
    "\n",
    "plt.show()\n"
   ]
  },
  {
   "cell_type": "code",
   "execution_count": 55,
   "id": "fb90888a-fc2a-4cb8-9ec6-8b7987ff60f2",
   "metadata": {},
   "outputs": [
    {
     "name": "stdout",
     "output_type": "stream",
     "text": [
      "--------------------------\n",
      "|              |    Mean |\n",
      "--------------------------\n",
      "|Pay As You Go |  4309.6 |\n",
      "|Contractual   |  6403.3 |\n",
      "--------------------------\n",
      "|t-statistic   |  -7.563 |\n",
      "|p-Value       |   0.000 |\n",
      "--------------------------\n",
      "There is a significant difference in call lengths between tariff plans.\n"
     ]
    }
   ],
   "source": [
    "# Existen diferencias significativas entre la duración de llamadas de los diferentes planes tarifarios\n",
    "from scipy import stats\n",
    "\n",
    "# Assuming your DataFrame is named 'df'\n",
    "# Filter the data for each tariff plan\n",
    "pay_as_you_go_calls = df[df['Tariff Plan'] == 1]['Seconds of Use']\n",
    "contractual_calls = df[df['Tariff Plan'] == 2]['Seconds of Use']\n",
    "\n",
    "# Perform a t-test to compare the means of call lengths\n",
    "t_statistic, p_value = stats.ttest_ind(pay_as_you_go_calls, contractual_calls)\n",
    "\n",
    "# Set the significance level (alpha)\n",
    "alpha = 0.05\n",
    "\n",
    "# Check if the p-value is less than alpha to determine significance\n",
    "print('-'*26)\n",
    "print('|', ' '*12, '|    Mean |')\n",
    "print('-'*26)\n",
    "print('|Pay As You Go |  {:.1f} |'.format(pay_as_you_go_calls.mean()))\n",
    "print('|Contractual   |  {:.1f} |'.format(contractual_calls.mean()))\n",
    "print('-'*26)\n",
    "print('|t-statistic   |  {:.3f} |'.format(t_statistic))\n",
    "print('|p-Value       |   {:.3f} |'.format(p_value))\n",
    "print('-'*26)\n",
    "if p_value < alpha:\n",
    "    print(\"There is a significant difference in call lengths between tariff plans.\")\n",
    "else:\n",
    "    print(\"There is no significant difference in call lengths between tariff plans.\")\n"
   ]
  }
 ],
 "metadata": {
  "colab": {
   "name": "Welcome to DataCamp Workspaces.ipynb",
   "provenance": []
  },
  "editor": "DataCamp Workspace",
  "kernelspec": {
   "display_name": "Python 3 (ipykernel)",
   "language": "python",
   "name": "python3"
  },
  "language_info": {
   "codemirror_mode": {
    "name": "ipython",
    "version": 3
   },
   "file_extension": ".py",
   "mimetype": "text/x-python",
   "name": "python",
   "nbconvert_exporter": "python",
   "pygments_lexer": "ipython3",
   "version": "3.11.5"
  },
  "varInspector": {
   "cols": {
    "lenName": 16,
    "lenType": 16,
    "lenVar": 40
   },
   "kernels_config": {
    "python": {
     "delete_cmd_postfix": "",
     "delete_cmd_prefix": "del ",
     "library": "var_list.py",
     "varRefreshCmd": "print(var_dic_list())"
    },
    "r": {
     "delete_cmd_postfix": ") ",
     "delete_cmd_prefix": "rm(",
     "library": "var_list.r",
     "varRefreshCmd": "cat(var_dic_list()) "
    }
   },
   "types_to_exclude": [
    "module",
    "function",
    "builtin_function_or_method",
    "instance",
    "_Feature"
   ],
   "window_display": false
  }
 },
 "nbformat": 4,
 "nbformat_minor": 5
}
